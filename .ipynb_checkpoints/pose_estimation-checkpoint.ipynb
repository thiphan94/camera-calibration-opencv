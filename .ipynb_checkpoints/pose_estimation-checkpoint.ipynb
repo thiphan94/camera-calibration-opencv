{
 "cells": [
  {
   "cell_type": "markdown",
   "metadata": {},
   "source": [
    "### **Basics**"
   ]
  },
  {
   "cell_type": "markdown",
   "metadata": {},
   "source": [
    "Load the camera matrix and distortion coefficients from the previous calibration result:"
   ]
  },
  {
   "cell_type": "code",
   "execution_count": 8,
   "metadata": {},
   "outputs": [],
   "source": [
    "import cv2 \n",
    "import numpy as np\n",
    "import glob\n",
    "\n",
    "# Load previously saved data\n",
    "with np.load('calib.npz') as X:\n",
    "    mtx, dist, _ , _ = [X[i] for i in ('mtx','dist','rvecs','tvecs')]\n"
   ]
  },
  {
   "cell_type": "markdown",
   "metadata": {},
   "source": [
    "Draw which takes the corners in the chessboard:"
   ]
  },
  {
   "cell_type": "code",
   "execution_count": 2,
   "metadata": {},
   "outputs": [],
   "source": [
    "def draw(img, corners, imgpts):\n",
    "    corner = tuple(corners[0].ravel())\n",
    "    para0 = tuple(imgpts[0].ravel())\n",
    "    para1 = tuple(imgpts[1].ravel())\n",
    "    para2 = tuple(imgpts[2].ravel())\n",
    "    cv2.line(img, (int(corner[0]),int(corner[1])), (int(para0[0]),int(para0[1])) , (255,0,0), 5)\n",
    "    cv2.line(img, (int(corner[0]),int(corner[1])), (int(para1[0]),int(para1[1])), (0,255,0), 5)\n",
    "    cv2.line(img, (int(corner[0]),int(corner[1])), (int(para2[0]),int(para2[1])), (0,0,255), 5)    \n",
    "    return img"
   ]
  },
  {
   "cell_type": "markdown",
   "metadata": {},
   "source": [
    "X axis is drawn from (0,0,0) to (3,0,0), so for Y axis. For Z axis, it is drawn from (0,0,0) to (0,0,-3). Negative denotes it is drawn towards the camera."
   ]
  },
  {
   "cell_type": "code",
   "execution_count": 3,
   "metadata": {},
   "outputs": [],
   "source": [
    "criteria = (cv2.TERM_CRITERIA_EPS + cv2.TERM_CRITERIA_MAX_ITER,300,0.001)\n",
    "objp = np.zeros((6*9,3),np.float32)\n",
    "objp[:,:2] = np.mgrid[0:9,0:6].T.reshape(-1,2)\n",
    "\n",
    "axis = np.float32([[3,0,0],[0,3,0],[0,0,-3]]).reshape(-1,3)"
   ]
  },
  {
   "cell_type": "markdown",
   "metadata": {},
   "source": [
    "### **Render a cube**"
   ]
  },
  {
   "cell_type": "code",
   "execution_count": 4,
   "metadata": {},
   "outputs": [],
   "source": [
    "def draw_cube(img,corners,imgpts):\n",
    "    imgpts = np.int32(imgpts).reshape(-1,2)\n",
    "\n",
    "    # 바닥 부분을 초록색으로\n",
    "    img = cv2.drawContours(img,[imgpts[:4]],-1,(0,255,0),-3)\n",
    "\n",
    "    # 기둥은 파란색으로\n",
    "    for i,j in zip(range(4),range(4,8)):\n",
    "        img = cv2.line(img,tuple(imgpts[i]),tuple(imgpts[j]),(255,0,0),3)\n",
    "\n",
    "    # 위의 층은 빨간색으로\n",
    "    img = cv2.drawContours(img,[imgpts[4:]],-1,(0,0,255),3)\n",
    "\n",
    "    return img"
   ]
  },
  {
   "cell_type": "code",
   "execution_count": null,
   "metadata": {},
   "outputs": [],
   "source": []
  },
  {
   "cell_type": "code",
   "execution_count": 5,
   "metadata": {},
   "outputs": [],
   "source": [
    "axis = np.float32([[0,0,0],[0,3,0],[3,3,0],[3,0,0],[0,0,-3],[0,3,-3],[3,3,-3],[3,0,-3]])\n",
    "\n",
    "for name in glob.glob('image2.jpg'):\n",
    "# for name in glob.glob('*.jpg'):\n",
    "    img = cv2.imread(name)\n",
    "    gray = cv2.cvtColor(img,cv2.COLOR_BGR2GRAY)\n",
    "    ret, corners = cv2.findChessboardCorners(gray,(9,6),None)\n",
    "    # 패턴 보유시 ret = True\n",
    "\n",
    "    if ret == True:\n",
    "        corners2 = cv2.cornerSubPix(gray,corners,(11,11),(-1,-1),criteria)\n",
    "\n",
    "        # Find the rotation and translation vectors.\n",
    "        _,rvecs, tvecs, inliers = cv2.solvePnPRansac(objp,corners2,mtx,dist)\n",
    "\n",
    "        # 3D 포인트를 이미지 평면에 투영시키자\n",
    "        imgpts, jac = cv2.projectPoints(axis,rvecs,tvecs,mtx,dist)\n",
    "\n",
    "        # 그리기\n",
    "        img = draw_cube(img,corners2,imgpts)\n",
    "        img = cv2.resize(img, (2000,900))\n",
    "        cv2.imshow(name,img)\n",
    "        cv2.imwrite(name[:6]+\"_cube.png\",img)\n",
    "        cv2.waitKey(500)\n",
    "#         k = cv2.waitKey(0) & 0xff\n",
    "#         if k == \"s\":\n",
    "#             cv2.imwrite(name[:6]+\"_cube.png\",img)\n",
    "cv2.destroyAllWindows()"
   ]
  },
  {
   "cell_type": "code",
   "execution_count": null,
   "metadata": {},
   "outputs": [],
   "source": []
  }
 ],
 "metadata": {
  "kernelspec": {
   "display_name": "Python 3 (ipykernel)",
   "language": "python",
   "name": "python3"
  },
  "language_info": {
   "codemirror_mode": {
    "name": "ipython",
    "version": 3
   },
   "file_extension": ".py",
   "mimetype": "text/x-python",
   "name": "python",
   "nbconvert_exporter": "python",
   "pygments_lexer": "ipython3",
   "version": "3.8.3"
  }
 },
 "nbformat": 4,
 "nbformat_minor": 4
}
