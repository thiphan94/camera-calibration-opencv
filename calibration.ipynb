{
 "cells": [
  {
   "cell_type": "markdown",
   "metadata": {},
   "source": [
    "### **Set up**"
   ]
  },
  {
   "cell_type": "code",
   "execution_count": 1,
   "metadata": {},
   "outputs": [
    {
     "name": "stdout",
     "output_type": "stream",
     "text": [
      "['image9.jpg', 'image12.jpg', 'image1.jpg', 'image15.jpg', 'image4.jpg', 'image8.jpg', 'image10.jpg', 'image5.jpg', 'image3.jpg', 'image7.jpg', 'image13.jpg', 'image6.jpg', 'image14.jpg', 'image11.jpg', 'image16.jpg', 'image2.jpg']\n"
     ]
    }
   ],
   "source": [
    "import numpy as np\n",
    "import glob, cv2\n",
    "import os\n",
    "\n",
    "# termination criteria\n",
    "criteria = (cv2.TERM_CRITERIA_EPS+cv2.TERM_CRITERIA_MAX_ITER, 30 ,0.001)\n",
    "\n",
    "# Object Point(3D)\n",
    "objp = np.zeros((6*9,3),np.float32)\n",
    "\n",
    "# Transpose to (6,9,2), flatten to reshpae(-1,2) and convert to (42,2)\n",
    "objp[:,:2] = np.mgrid[0:9,0:6].T.reshape(-1,2)\n",
    "\n",
    "# Arrays to store object points and image points from all the images.\n",
    "objpoints = [] # 3D points in the real world\n",
    "imgpoints = [] # points in the 2D image\n",
    "\n",
    "# An array to store object points and image points from the image\n",
    "images = glob.glob('*.jpg')\n",
    "# images = glob.glob('image5.jpg')\n",
    "print(images)\n",
    "path = \"./storage/\"\n",
    "for name in images:\n",
    "    img = cv2.imread(name)\n",
    "    gray = cv2.cvtColor(img, cv2.COLOR_BGR2GRAY)\n",
    "\n",
    "    # Find the corners of the chessboard\n",
    "    ret, corners = cv2.findChessboardCorners(gray,(9,6),None)\n",
    "\n",
    "    # If found, add Object points and Image points\n",
    "    if ret == True:\n",
    "        objpoints.append(objp)\n",
    "\n",
    "        corners2 = cv2.cornerSubPix(gray,corners,(11,11),(-1,-1),criteria)\n",
    "        imgpoints.append(corners2)\n",
    "\n",
    "        # Let's draw a corner\n",
    "        img = cv2.drawChessboardCorners(img,(9,6),corners2,ret)\n",
    "#         img = cv2.resize(img, (2000,900))\n",
    "        cv2.imshow(name,img)\n",
    "        cv2.imwrite(os.path.join(path , name+'_corner.jpg'), img)\n",
    "        cv2.waitKey(100)\n",
    "        \n",
    "        \n",
    "cv2.destroyAllWindows()"
   ]
  },
  {
   "cell_type": "markdown",
   "metadata": {},
   "source": [
    "### **Calibration**"
   ]
  },
  {
   "cell_type": "markdown",
   "metadata": {},
   "source": [
    "cv.calibrateCamera() which returns the camera matrix, distortion coefficients, rotation and translation vectors etc. "
   ]
  },
  {
   "cell_type": "code",
   "execution_count": 2,
   "metadata": {},
   "outputs": [],
   "source": [
    "ret, mtx, dist, rvecs, tvecs = cv2.calibrateCamera(objpoints, imgpoints, gray.shape[::-1],None,None)"
   ]
  },
  {
   "cell_type": "markdown",
   "metadata": {},
   "source": [
    "### **Undistortion**"
   ]
  },
  {
   "cell_type": "markdown",
   "metadata": {},
   "source": [
    "Take an image"
   ]
  },
  {
   "cell_type": "code",
   "execution_count": 8,
   "metadata": {},
   "outputs": [],
   "source": [
    "img = cv2.imread('image13.jpg')\n",
    "h,w = img.shape[:2]\n",
    "newcameraMtx, roi = cv2.getOptimalNewCameraMatrix(mtx,dist,(w,h),1,(w,h))"
   ]
  },
  {
   "cell_type": "markdown",
   "metadata": {},
   "source": [
    "#### **Using cv.undistort()**"
   ]
  },
  {
   "cell_type": "markdown",
   "metadata": {},
   "source": [
    "Call the function and use ROI obtained above to crop the result"
   ]
  },
  {
   "cell_type": "code",
   "execution_count": 9,
   "metadata": {},
   "outputs": [
    {
     "data": {
      "text/plain": [
       "True"
      ]
     },
     "execution_count": 9,
     "metadata": {},
     "output_type": "execute_result"
    }
   ],
   "source": [
    "# undistort\n",
    "dst = cv2.undistort(img,mtx,dist,None,newcameraMtx)\n",
    "\n",
    "#crop the image\n",
    "x,y,w,h = roi\n",
    "dst = dst[y:y+h,x:x+w]\n",
    "cv2.imwrite('calibRes.jpg',dst) #save the result"
   ]
  },
  {
   "cell_type": "markdown",
   "metadata": {},
   "source": [
    "#### **Using remapping**"
   ]
  },
  {
   "cell_type": "code",
   "execution_count": 10,
   "metadata": {},
   "outputs": [],
   "source": [
    "img = cv2.imread('image13.jpg')\n",
    "h,w = img.shape[:2]\n",
    "newcameraMtx, roi = cv2.getOptimalNewCameraMatrix(mtx,dist,(w,h),1,(w,h))"
   ]
  },
  {
   "cell_type": "code",
   "execution_count": 11,
   "metadata": {},
   "outputs": [
    {
     "data": {
      "text/plain": [
       "True"
      ]
     },
     "execution_count": 11,
     "metadata": {},
     "output_type": "execute_result"
    }
   ],
   "source": [
    "# undistort\n",
    "mapx, mapy = cv2.initUndistortRectifyMap(mtx, dist, None, newcameraMtx, (w,h), 5)\n",
    "dst_remap = cv2.remap(img, mapx, mapy, cv2.INTER_LINEAR)\n",
    "\n",
    "#crop the image\n",
    "x_remap, y_remap, w_remap, h_remap = roi\n",
    "dst_remap = dst_remap[y_remap:y_remap+h_remap, x_remap:x_remap+w_remap]\n",
    "cv2.imwrite('calibRemap.jpg',dst_remap)"
   ]
  },
  {
   "cell_type": "markdown",
   "metadata": {},
   "source": [
    "Save the camera matrix and distortion coefficients for future use."
   ]
  },
  {
   "cell_type": "code",
   "execution_count": 12,
   "metadata": {},
   "outputs": [],
   "source": [
    "np.savez('calib.npz',ret=ret,mtx=mtx,dist=dist,rvecs=rvecs,tvecs=tvecs)"
   ]
  },
  {
   "cell_type": "markdown",
   "metadata": {},
   "source": [
    "### **Re-projection Error**"
   ]
  },
  {
   "cell_type": "code",
   "execution_count": 14,
   "metadata": {},
   "outputs": [
    {
     "name": "stdout",
     "output_type": "stream",
     "text": [
      "Total error : 0.0763300239989937\n"
     ]
    }
   ],
   "source": [
    "mean_error = 0\n",
    "for i in range(len(objpoints)):\n",
    "    imgpoints2,_ = cv2.projectPoints(objpoints[i],rvecs[i],tvecs[i],mtx,dist)\n",
    "    error = cv2.norm(imgpoints[i],imgpoints2,cv2.NORM_L2)/len(imgpoints2)\n",
    "    mean_error += error\n",
    "print(\"Total error : {0}\".format(mean_error/len(objpoints)))\n"
   ]
  },
  {
   "cell_type": "code",
   "execution_count": null,
   "metadata": {},
   "outputs": [],
   "source": []
  },
  {
   "cell_type": "code",
   "execution_count": null,
   "metadata": {},
   "outputs": [],
   "source": []
  },
  {
   "cell_type": "code",
   "execution_count": 26,
   "metadata": {},
   "outputs": [
    {
     "name": "stdout",
     "output_type": "stream",
     "text": [
      "matrice de caméra: \n",
      " [[2.94330979e+03 0.00000000e+00 2.03022456e+03]\n",
      " [0.00000000e+00 2.94972887e+03 8.89761014e+02]\n",
      " [0.00000000e+00 0.00000000e+00 1.00000000e+00]]\n",
      "\n",
      "\n",
      "coefficients de distorsion: \n",
      " [[ 0.10179749 -0.02986528 -0.00337707  0.00060471 -0.58474945]]\n"
     ]
    }
   ],
   "source": [
    "calib_data = np.load('calib.npz')\n",
    "cmx = calib_data['mtx']\n",
    "dist = calib_data['dist']\n",
    "print(\"matrice de caméra: \\n\",cmx)\n",
    "print(\"\\n\")\n",
    "print(\"coefficients de distorsion: \\n\",dist)"
   ]
  },
  {
   "cell_type": "code",
   "execution_count": 16,
   "metadata": {},
   "outputs": [
    {
     "name": "stdout",
     "output_type": "stream",
     "text": [
      "(4000, 1800)\n"
     ]
    }
   ],
   "source": [
    "from PIL import Image\n",
    "\n",
    "im = Image.open('image2.jpg')\n",
    "image_size = im.size\n",
    "print(image_size)"
   ]
  },
  {
   "cell_type": "code",
   "execution_count": 19,
   "metadata": {},
   "outputs": [
    {
     "name": "stdout",
     "output_type": "stream",
     "text": [
      "68.38893230041549 33.93488343921044 4.709295667172504 (3.248359300026061, 2.3726960383740163) 1.0021809042520036\n"
     ]
    }
   ],
   "source": [
    "import cv2\n",
    "fov_x, fov_y, focal_len, principal, aspect = cv2.calibrationMatrixValues(cmx, image_size, 6.4,4.8)\n",
    "print(fov_x, fov_y, focal_len, principal, aspect)"
   ]
  },
  {
   "cell_type": "code",
   "execution_count": null,
   "metadata": {},
   "outputs": [],
   "source": []
  }
 ],
 "metadata": {
  "kernelspec": {
   "display_name": "Python 3 (ipykernel)",
   "language": "python",
   "name": "python3"
  },
  "language_info": {
   "codemirror_mode": {
    "name": "ipython",
    "version": 3
   },
   "file_extension": ".py",
   "mimetype": "text/x-python",
   "name": "python",
   "nbconvert_exporter": "python",
   "pygments_lexer": "ipython3",
   "version": "3.8.3"
  }
 },
 "nbformat": 4,
 "nbformat_minor": 4
}
